{
 "cells": [
  {
   "cell_type": "markdown",
   "id": "cd2bfc3f",
   "metadata": {},
   "source": [
    "# Problem 1"
   ]
  },
  {
   "cell_type": "code",
   "execution_count": 3,
   "id": "a7e5169a",
   "metadata": {},
   "outputs": [],
   "source": [
    "# Basic Libraries\n",
    "import numpy as np\n",
    "import pandas as pd\n",
    "import seaborn as sb\n",
    "from scipy.stats import skew\n",
    "import matplotlib.pyplot as plt # we only need pyplot\n",
    "sb.set() # set the default Seaborn style for graphics"
   ]
  },
  {
   "cell_type": "code",
   "execution_count": 4,
   "id": "a518d996",
   "metadata": {
    "scrolled": true
   },
   "outputs": [
    {
     "data": {
      "text/html": [
       "<div>\n",
       "<style scoped>\n",
       "    .dataframe tbody tr th:only-of-type {\n",
       "        vertical-align: middle;\n",
       "    }\n",
       "\n",
       "    .dataframe tbody tr th {\n",
       "        vertical-align: top;\n",
       "    }\n",
       "\n",
       "    .dataframe thead th {\n",
       "        text-align: right;\n",
       "    }\n",
       "</style>\n",
       "<table border=\"1\" class=\"dataframe\">\n",
       "  <thead>\n",
       "    <tr style=\"text-align: right;\">\n",
       "      <th></th>\n",
       "      <th>Id</th>\n",
       "      <th>MSSubClass</th>\n",
       "      <th>MSZoning</th>\n",
       "      <th>LotFrontage</th>\n",
       "      <th>LotArea</th>\n",
       "      <th>Street</th>\n",
       "      <th>Alley</th>\n",
       "      <th>LotShape</th>\n",
       "      <th>LandContour</th>\n",
       "      <th>Utilities</th>\n",
       "      <th>...</th>\n",
       "      <th>PoolArea</th>\n",
       "      <th>PoolQC</th>\n",
       "      <th>Fence</th>\n",
       "      <th>MiscFeature</th>\n",
       "      <th>MiscVal</th>\n",
       "      <th>MoSold</th>\n",
       "      <th>YrSold</th>\n",
       "      <th>SaleType</th>\n",
       "      <th>SaleCondition</th>\n",
       "      <th>SalePrice</th>\n",
       "    </tr>\n",
       "  </thead>\n",
       "  <tbody>\n",
       "    <tr>\n",
       "      <th>0</th>\n",
       "      <td>1</td>\n",
       "      <td>60</td>\n",
       "      <td>RL</td>\n",
       "      <td>65.0</td>\n",
       "      <td>8450</td>\n",
       "      <td>Pave</td>\n",
       "      <td>NaN</td>\n",
       "      <td>Reg</td>\n",
       "      <td>Lvl</td>\n",
       "      <td>AllPub</td>\n",
       "      <td>...</td>\n",
       "      <td>0</td>\n",
       "      <td>NaN</td>\n",
       "      <td>NaN</td>\n",
       "      <td>NaN</td>\n",
       "      <td>0</td>\n",
       "      <td>2</td>\n",
       "      <td>2008</td>\n",
       "      <td>WD</td>\n",
       "      <td>Normal</td>\n",
       "      <td>208500</td>\n",
       "    </tr>\n",
       "    <tr>\n",
       "      <th>1</th>\n",
       "      <td>2</td>\n",
       "      <td>20</td>\n",
       "      <td>RL</td>\n",
       "      <td>80.0</td>\n",
       "      <td>9600</td>\n",
       "      <td>Pave</td>\n",
       "      <td>NaN</td>\n",
       "      <td>Reg</td>\n",
       "      <td>Lvl</td>\n",
       "      <td>AllPub</td>\n",
       "      <td>...</td>\n",
       "      <td>0</td>\n",
       "      <td>NaN</td>\n",
       "      <td>NaN</td>\n",
       "      <td>NaN</td>\n",
       "      <td>0</td>\n",
       "      <td>5</td>\n",
       "      <td>2007</td>\n",
       "      <td>WD</td>\n",
       "      <td>Normal</td>\n",
       "      <td>181500</td>\n",
       "    </tr>\n",
       "    <tr>\n",
       "      <th>2</th>\n",
       "      <td>3</td>\n",
       "      <td>60</td>\n",
       "      <td>RL</td>\n",
       "      <td>68.0</td>\n",
       "      <td>11250</td>\n",
       "      <td>Pave</td>\n",
       "      <td>NaN</td>\n",
       "      <td>IR1</td>\n",
       "      <td>Lvl</td>\n",
       "      <td>AllPub</td>\n",
       "      <td>...</td>\n",
       "      <td>0</td>\n",
       "      <td>NaN</td>\n",
       "      <td>NaN</td>\n",
       "      <td>NaN</td>\n",
       "      <td>0</td>\n",
       "      <td>9</td>\n",
       "      <td>2008</td>\n",
       "      <td>WD</td>\n",
       "      <td>Normal</td>\n",
       "      <td>223500</td>\n",
       "    </tr>\n",
       "    <tr>\n",
       "      <th>3</th>\n",
       "      <td>4</td>\n",
       "      <td>70</td>\n",
       "      <td>RL</td>\n",
       "      <td>60.0</td>\n",
       "      <td>9550</td>\n",
       "      <td>Pave</td>\n",
       "      <td>NaN</td>\n",
       "      <td>IR1</td>\n",
       "      <td>Lvl</td>\n",
       "      <td>AllPub</td>\n",
       "      <td>...</td>\n",
       "      <td>0</td>\n",
       "      <td>NaN</td>\n",
       "      <td>NaN</td>\n",
       "      <td>NaN</td>\n",
       "      <td>0</td>\n",
       "      <td>2</td>\n",
       "      <td>2006</td>\n",
       "      <td>WD</td>\n",
       "      <td>Abnorml</td>\n",
       "      <td>140000</td>\n",
       "    </tr>\n",
       "    <tr>\n",
       "      <th>4</th>\n",
       "      <td>5</td>\n",
       "      <td>60</td>\n",
       "      <td>RL</td>\n",
       "      <td>84.0</td>\n",
       "      <td>14260</td>\n",
       "      <td>Pave</td>\n",
       "      <td>NaN</td>\n",
       "      <td>IR1</td>\n",
       "      <td>Lvl</td>\n",
       "      <td>AllPub</td>\n",
       "      <td>...</td>\n",
       "      <td>0</td>\n",
       "      <td>NaN</td>\n",
       "      <td>NaN</td>\n",
       "      <td>NaN</td>\n",
       "      <td>0</td>\n",
       "      <td>12</td>\n",
       "      <td>2008</td>\n",
       "      <td>WD</td>\n",
       "      <td>Normal</td>\n",
       "      <td>250000</td>\n",
       "    </tr>\n",
       "  </tbody>\n",
       "</table>\n",
       "<p>5 rows × 81 columns</p>\n",
       "</div>"
      ],
      "text/plain": [
       "   Id  MSSubClass MSZoning  LotFrontage  LotArea Street Alley LotShape  \\\n",
       "0   1          60       RL         65.0     8450   Pave   NaN      Reg   \n",
       "1   2          20       RL         80.0     9600   Pave   NaN      Reg   \n",
       "2   3          60       RL         68.0    11250   Pave   NaN      IR1   \n",
       "3   4          70       RL         60.0     9550   Pave   NaN      IR1   \n",
       "4   5          60       RL         84.0    14260   Pave   NaN      IR1   \n",
       "\n",
       "  LandContour Utilities  ... PoolArea PoolQC Fence MiscFeature MiscVal MoSold  \\\n",
       "0         Lvl    AllPub  ...        0    NaN   NaN         NaN       0      2   \n",
       "1         Lvl    AllPub  ...        0    NaN   NaN         NaN       0      5   \n",
       "2         Lvl    AllPub  ...        0    NaN   NaN         NaN       0      9   \n",
       "3         Lvl    AllPub  ...        0    NaN   NaN         NaN       0      2   \n",
       "4         Lvl    AllPub  ...        0    NaN   NaN         NaN       0     12   \n",
       "\n",
       "  YrSold  SaleType  SaleCondition  SalePrice  \n",
       "0   2008        WD         Normal     208500  \n",
       "1   2007        WD         Normal     181500  \n",
       "2   2008        WD         Normal     223500  \n",
       "3   2006        WD        Abnorml     140000  \n",
       "4   2008        WD         Normal     250000  \n",
       "\n",
       "[5 rows x 81 columns]"
      ]
     },
     "execution_count": 4,
     "metadata": {},
     "output_type": "execute_result"
    }
   ],
   "source": [
    "data = pd.read_csv('train.csv')\n",
    "data.head()"
   ]
  },
  {
   "cell_type": "markdown",
   "id": "0564e87e",
   "metadata": {},
   "source": [
    "## a) Which of these variables has the maximum number of outliers as per box-plot? How many outliers does it have?"
   ]
  },
  {
   "cell_type": "code",
   "execution_count": 5,
   "id": "498c21c2",
   "metadata": {},
   "outputs": [
    {
     "data": {
      "text/html": [
       "<div>\n",
       "<style scoped>\n",
       "    .dataframe tbody tr th:only-of-type {\n",
       "        vertical-align: middle;\n",
       "    }\n",
       "\n",
       "    .dataframe tbody tr th {\n",
       "        vertical-align: top;\n",
       "    }\n",
       "\n",
       "    .dataframe thead th {\n",
       "        text-align: right;\n",
       "    }\n",
       "</style>\n",
       "<table border=\"1\" class=\"dataframe\">\n",
       "  <thead>\n",
       "    <tr style=\"text-align: right;\">\n",
       "      <th></th>\n",
       "      <th>LotArea</th>\n",
       "    </tr>\n",
       "  </thead>\n",
       "  <tbody>\n",
       "    <tr>\n",
       "      <th>0</th>\n",
       "      <td>8450</td>\n",
       "    </tr>\n",
       "    <tr>\n",
       "      <th>1</th>\n",
       "      <td>9600</td>\n",
       "    </tr>\n",
       "    <tr>\n",
       "      <th>2</th>\n",
       "      <td>11250</td>\n",
       "    </tr>\n",
       "    <tr>\n",
       "      <th>3</th>\n",
       "      <td>9550</td>\n",
       "    </tr>\n",
       "    <tr>\n",
       "      <th>4</th>\n",
       "      <td>14260</td>\n",
       "    </tr>\n",
       "  </tbody>\n",
       "</table>\n",
       "</div>"
      ],
      "text/plain": [
       "   LotArea\n",
       "0     8450\n",
       "1     9600\n",
       "2    11250\n",
       "3     9550\n",
       "4    14260"
      ]
     },
     "execution_count": 5,
     "metadata": {},
     "output_type": "execute_result"
    }
   ],
   "source": [
    "LotArea = pd.DataFrame(data[\"LotArea\"])\n",
    "LotArea.head()"
   ]
  },
  {
   "cell_type": "code",
   "execution_count": 6,
   "id": "a8aba091",
   "metadata": {},
   "outputs": [
    {
     "data": {
      "text/html": [
       "<div>\n",
       "<style scoped>\n",
       "    .dataframe tbody tr th:only-of-type {\n",
       "        vertical-align: middle;\n",
       "    }\n",
       "\n",
       "    .dataframe tbody tr th {\n",
       "        vertical-align: top;\n",
       "    }\n",
       "\n",
       "    .dataframe thead th {\n",
       "        text-align: right;\n",
       "    }\n",
       "</style>\n",
       "<table border=\"1\" class=\"dataframe\">\n",
       "  <thead>\n",
       "    <tr style=\"text-align: right;\">\n",
       "      <th></th>\n",
       "      <th>GrLivArea</th>\n",
       "    </tr>\n",
       "  </thead>\n",
       "  <tbody>\n",
       "    <tr>\n",
       "      <th>0</th>\n",
       "      <td>1710</td>\n",
       "    </tr>\n",
       "    <tr>\n",
       "      <th>1</th>\n",
       "      <td>1262</td>\n",
       "    </tr>\n",
       "    <tr>\n",
       "      <th>2</th>\n",
       "      <td>1786</td>\n",
       "    </tr>\n",
       "    <tr>\n",
       "      <th>3</th>\n",
       "      <td>1717</td>\n",
       "    </tr>\n",
       "    <tr>\n",
       "      <th>4</th>\n",
       "      <td>2198</td>\n",
       "    </tr>\n",
       "  </tbody>\n",
       "</table>\n",
       "</div>"
      ],
      "text/plain": [
       "   GrLivArea\n",
       "0       1710\n",
       "1       1262\n",
       "2       1786\n",
       "3       1717\n",
       "4       2198"
      ]
     },
     "execution_count": 6,
     "metadata": {},
     "output_type": "execute_result"
    }
   ],
   "source": [
    "GrLivArea = pd.DataFrame(data[\"GrLivArea\"])\n",
    "GrLivArea.head()"
   ]
  },
  {
   "cell_type": "code",
   "execution_count": 7,
   "id": "820b667d",
   "metadata": {},
   "outputs": [
    {
     "data": {
      "text/html": [
       "<div>\n",
       "<style scoped>\n",
       "    .dataframe tbody tr th:only-of-type {\n",
       "        vertical-align: middle;\n",
       "    }\n",
       "\n",
       "    .dataframe tbody tr th {\n",
       "        vertical-align: top;\n",
       "    }\n",
       "\n",
       "    .dataframe thead th {\n",
       "        text-align: right;\n",
       "    }\n",
       "</style>\n",
       "<table border=\"1\" class=\"dataframe\">\n",
       "  <thead>\n",
       "    <tr style=\"text-align: right;\">\n",
       "      <th></th>\n",
       "      <th>TotalBsmtSF</th>\n",
       "    </tr>\n",
       "  </thead>\n",
       "  <tbody>\n",
       "    <tr>\n",
       "      <th>0</th>\n",
       "      <td>856</td>\n",
       "    </tr>\n",
       "    <tr>\n",
       "      <th>1</th>\n",
       "      <td>1262</td>\n",
       "    </tr>\n",
       "    <tr>\n",
       "      <th>2</th>\n",
       "      <td>920</td>\n",
       "    </tr>\n",
       "    <tr>\n",
       "      <th>3</th>\n",
       "      <td>756</td>\n",
       "    </tr>\n",
       "    <tr>\n",
       "      <th>4</th>\n",
       "      <td>1145</td>\n",
       "    </tr>\n",
       "  </tbody>\n",
       "</table>\n",
       "</div>"
      ],
      "text/plain": [
       "   TotalBsmtSF\n",
       "0          856\n",
       "1         1262\n",
       "2          920\n",
       "3          756\n",
       "4         1145"
      ]
     },
     "execution_count": 7,
     "metadata": {},
     "output_type": "execute_result"
    }
   ],
   "source": [
    "TotalBsmtSF = pd.DataFrame(data[\"TotalBsmtSF\"])\n",
    "TotalBsmtSF.head()"
   ]
  },
  {
   "cell_type": "code",
   "execution_count": 8,
   "id": "71c10a88",
   "metadata": {},
   "outputs": [
    {
     "data": {
      "text/html": [
       "<div>\n",
       "<style scoped>\n",
       "    .dataframe tbody tr th:only-of-type {\n",
       "        vertical-align: middle;\n",
       "    }\n",
       "\n",
       "    .dataframe tbody tr th {\n",
       "        vertical-align: top;\n",
       "    }\n",
       "\n",
       "    .dataframe thead th {\n",
       "        text-align: right;\n",
       "    }\n",
       "</style>\n",
       "<table border=\"1\" class=\"dataframe\">\n",
       "  <thead>\n",
       "    <tr style=\"text-align: right;\">\n",
       "      <th></th>\n",
       "      <th>GarageArea</th>\n",
       "    </tr>\n",
       "  </thead>\n",
       "  <tbody>\n",
       "    <tr>\n",
       "      <th>0</th>\n",
       "      <td>548</td>\n",
       "    </tr>\n",
       "    <tr>\n",
       "      <th>1</th>\n",
       "      <td>460</td>\n",
       "    </tr>\n",
       "    <tr>\n",
       "      <th>2</th>\n",
       "      <td>608</td>\n",
       "    </tr>\n",
       "    <tr>\n",
       "      <th>3</th>\n",
       "      <td>642</td>\n",
       "    </tr>\n",
       "    <tr>\n",
       "      <th>4</th>\n",
       "      <td>836</td>\n",
       "    </tr>\n",
       "  </tbody>\n",
       "</table>\n",
       "</div>"
      ],
      "text/plain": [
       "   GarageArea\n",
       "0         548\n",
       "1         460\n",
       "2         608\n",
       "3         642\n",
       "4         836"
      ]
     },
     "execution_count": 8,
     "metadata": {},
     "output_type": "execute_result"
    }
   ],
   "source": [
    "GarageArea = pd.DataFrame(data[\"GarageArea\"])\n",
    "GarageArea.head()"
   ]
  },
  {
   "cell_type": "code",
   "execution_count": 9,
   "id": "9c7c4e64",
   "metadata": {},
   "outputs": [],
   "source": [
    "def count_outlier(data):\n",
    "    Q1 = data.quantile(0.25)\n",
    "    Q3 = data.quantile(0.75)\n",
    "    IQR = Q3 - Q1\n",
    "    count = ((data < (Q1 - 1.5 * IQR)) | (data > (Q3 + 1.5 * IQR))).sum()\n",
    "    return count"
   ]
  },
  {
   "cell_type": "code",
   "execution_count": 10,
   "id": "fc5b1f85",
   "metadata": {},
   "outputs": [
    {
     "data": {
      "text/plain": [
       "LotArea    69\n",
       "dtype: int64"
      ]
     },
     "execution_count": 10,
     "metadata": {},
     "output_type": "execute_result"
    },
    {
     "data": {
      "image/png": "[encoded data removed]",
      "text/plain": [
       "<Figure size 1152x576 with 1 Axes>"
      ]
     },
     "metadata": {},
     "output_type": "display_data"
    }
   ],
   "source": [
    "f = plt.figure(figsize=(16, 8))\n",
    "sb.boxplot(data = [LotArea], orient = \"h\")\n",
    "count_outlier(LotArea)"
   ]
  },
  {
   "cell_type": "code",
   "execution_count": 11,
   "id": "a13fd6e4",
   "metadata": {},
   "outputs": [
    {
     "data": {
      "text/plain": [
       "GrLivArea    31\n",
       "dtype: int64"
      ]
     },
     "execution_count": 11,
     "metadata": {},
     "output_type": "execute_result"
    },
    {
     "data": {
      "image/png": "[encoded data removed]",
      "text/plain": [
       "<Figure size 1152x576 with 1 Axes>"
      ]
     },
     "metadata": {},
     "output_type": "display_data"
    }
   ],
   "source": [
    "f = plt.figure(figsize=(16, 8))\n",
    "sb.boxplot(data = [GrLivArea], orient = \"h\")\n",
    "count_outlier(GrLivArea)"
   ]
  },
  {
   "cell_type": "code",
   "execution_count": 12,
   "id": "921d570c",
   "metadata": {},
   "outputs": [
    {
     "data": {
      "text/plain": [
       "TotalBsmtSF    61\n",
       "dtype: int64"
      ]
     },
     "execution_count": 12,
     "metadata": {},
     "output_type": "execute_result"
    },
    {
     "data": {
      "image/png": "[encoded data removed]",
      "text/plain": [
       "<Figure size 1152x576 with 1 Axes>"
      ]
     },
     "metadata": {},
     "output_type": "display_data"
    }
   ],
   "source": [
    "f = plt.figure(figsize=(16, 8))\n",
    "sb.boxplot(data = [TotalBsmtSF], orient = \"h\")\n",
    "count_outlier(TotalBsmtSF)"
   ]
  },
  {
   "cell_type": "code",
   "execution_count": 13,
   "id": "8a330a75",
   "metadata": {},
   "outputs": [
    {
     "data": {
      "text/plain": [
       "GarageArea    21\n",
       "dtype: int64"
      ]
     },
     "execution_count": 13,
     "metadata": {},
     "output_type": "execute_result"
    },
    {
     "data": {
      "image/png": "[encoded data removed]",
      "text/plain": [
       "<Figure size 1152x576 with 1 Axes>"
      ]
     },
     "metadata": {},
     "output_type": "display_data"
    }
   ],
   "source": [
    "f = plt.figure(figsize=(16, 8))\n",
    "sb.boxplot(data = [GarageArea], orient = \"h\")\n",
    "count_outlier(GarageArea)"
   ]
  },
  {
   "cell_type": "markdown",
   "id": "c8e11c08",
   "metadata": {},
   "source": [
    "## Answer"
   ]
  },
  {
   "cell_type": "markdown",
   "id": "56025a4f",
   "metadata": {},
   "source": [
    "LotArea has the maximum number of outliers as per box-plot. It has 69 outliers."
   ]
  },
  {
   "cell_type": "markdown",
   "id": "ab6cf5f8",
   "metadata": {},
   "source": [
    "***"
   ]
  },
  {
   "cell_type": "markdown",
   "id": "7d31ea86",
   "metadata": {},
   "source": [
    "## b) Which of these variables is the most skewed from a regular normal distribution? Is the skew positive or negative?"
   ]
  },
  {
   "cell_type": "code",
   "execution_count": 14,
   "id": "375e6f02",
   "metadata": {},
   "outputs": [],
   "source": [
    "#absolutely useless in this case since I already imported and used skew() but just to check\n",
    "def skewness(data):\n",
    "    mean = data.mean()\n",
    "    median = data.median()\n",
    "    std = data.std()\n",
    "    skewness = (abs(mean-median))*3/std\n",
    "    return skewness"
   ]
  },
  {
   "cell_type": "code",
   "execution_count": 15,
   "id": "2251425c",
   "metadata": {},
   "outputs": [
    {
     "name": "stdout",
     "output_type": "stream",
     "text": [
      "LotArea    12.207688\n",
      "dtype: float64\n"
     ]
    },
    {
     "data": {
      "text/plain": [
       "array([12.19514213])"
      ]
     },
     "execution_count": 15,
     "metadata": {},
     "output_type": "execute_result"
    }
   ],
   "source": [
    "skewness_LotArea = LotArea.skew()\n",
    "print(skewness_LotArea)\n",
    "skew(LotArea)"
   ]
  },
  {
   "cell_type": "code",
   "execution_count": 19,
   "id": "1361bd93",
   "metadata": {},
   "outputs": [
    {
     "name": "stdout",
     "output_type": "stream",
     "text": [
      "GrLivArea    1.36656\n",
      "dtype: float64\n"
     ]
    },
    {
     "data": {
      "text/plain": [
       "array([1.36515595])"
      ]
     },
     "execution_count": 19,
     "metadata": {},
     "output_type": "execute_result"
    }
   ],
   "source": [
    "skewness_GrLivArea = GrLivArea.skew()\n",
    "print(skewness_GrLivArea)\n",
    "skew(GrLivArea)"
   ]
  },
  {
   "cell_type": "code",
   "execution_count": 20,
   "id": "91e631a0",
   "metadata": {},
   "outputs": [
    {
     "name": "stdout",
     "output_type": "stream",
     "text": [
      "GarageArea    0.179981\n",
      "dtype: float64\n"
     ]
    },
    {
     "data": {
      "text/plain": [
       "array([0.17979594])"
      ]
     },
     "execution_count": 20,
     "metadata": {},
     "output_type": "execute_result"
    }
   ],
   "source": [
    "skewness_GarageArea = GarageArea.skew()\n",
    "print(skewness_GarageArea)\n",
    "skew(GarageArea)"
   ]
  },
  {
   "cell_type": "code",
   "execution_count": 21,
   "id": "931b0a36",
   "metadata": {},
   "outputs": [
    {
     "name": "stdout",
     "output_type": "stream",
     "text": [
      "TotalBsmtSF    1.524255\n",
      "dtype: float64\n"
     ]
    },
    {
     "data": {
      "text/plain": [
       "array([1.52268809])"
      ]
     },
     "execution_count": 21,
     "metadata": {},
     "output_type": "execute_result"
    }
   ],
   "source": [
    "skewness_TotalBsmtSF = TotalBsmtSF.skew()\n",
    "print(skewness_TotalBsmtSF)\n",
    "skew(TotalBsmtSF)"
   ]
  },
  {
   "cell_type": "markdown",
   "id": "5857e186",
   "metadata": {},
   "source": [
    "## Answer"
   ]
  },
  {
   "cell_type": "markdown",
   "id": "6218fcbd",
   "metadata": {},
   "source": [
    "LotArea is the most skewed from a regular normal distribution. The skew is positive."
   ]
  },
  {
   "cell_type": "markdown",
   "id": "ae075005",
   "metadata": {},
   "source": [
    "***"
   ]
  },
  {
   "cell_type": "markdown",
   "id": "d71e3def",
   "metadata": {},
   "source": [
    "## c) Choose the top two variables that you think will help us the most in predicting ‘SalePrice’ of houses in this data."
   ]
  },
  {
   "cell_type": "code",
   "execution_count": 25,
   "id": "7a85aaff",
   "metadata": {},
   "outputs": [
    {
     "data": {
      "text/html": [
       "<div>\n",
       "<style scoped>\n",
       "    .dataframe tbody tr th:only-of-type {\n",
       "        vertical-align: middle;\n",
       "    }\n",
       "\n",
       "    .dataframe tbody tr th {\n",
       "        vertical-align: top;\n",
       "    }\n",
       "\n",
       "    .dataframe thead th {\n",
       "        text-align: right;\n",
       "    }\n",
       "</style>\n",
       "<table border=\"1\" class=\"dataframe\">\n",
       "  <thead>\n",
       "    <tr style=\"text-align: right;\">\n",
       "      <th></th>\n",
       "      <th>LotArea</th>\n",
       "      <th>GrLivArea</th>\n",
       "      <th>GarageArea</th>\n",
       "      <th>TotalBsmtSF</th>\n",
       "      <th>SalePrice</th>\n",
       "    </tr>\n",
       "  </thead>\n",
       "  <tbody>\n",
       "    <tr>\n",
       "      <th>0</th>\n",
       "      <td>8450</td>\n",
       "      <td>1710</td>\n",
       "      <td>548</td>\n",
       "      <td>856</td>\n",
       "      <td>208500</td>\n",
       "    </tr>\n",
       "    <tr>\n",
       "      <th>1</th>\n",
       "      <td>9600</td>\n",
       "      <td>1262</td>\n",
       "      <td>460</td>\n",
       "      <td>1262</td>\n",
       "      <td>181500</td>\n",
       "    </tr>\n",
       "    <tr>\n",
       "      <th>2</th>\n",
       "      <td>11250</td>\n",
       "      <td>1786</td>\n",
       "      <td>608</td>\n",
       "      <td>920</td>\n",
       "      <td>223500</td>\n",
       "    </tr>\n",
       "    <tr>\n",
       "      <th>3</th>\n",
       "      <td>9550</td>\n",
       "      <td>1717</td>\n",
       "      <td>642</td>\n",
       "      <td>756</td>\n",
       "      <td>140000</td>\n",
       "    </tr>\n",
       "    <tr>\n",
       "      <th>4</th>\n",
       "      <td>14260</td>\n",
       "      <td>2198</td>\n",
       "      <td>836</td>\n",
       "      <td>1145</td>\n",
       "      <td>250000</td>\n",
       "    </tr>\n",
       "  </tbody>\n",
       "</table>\n",
       "</div>"
      ],
      "text/plain": [
       "   LotArea  GrLivArea  GarageArea  TotalBsmtSF  SalePrice\n",
       "0     8450       1710         548          856     208500\n",
       "1     9600       1262         460         1262     181500\n",
       "2    11250       1786         608          920     223500\n",
       "3     9550       1717         642          756     140000\n",
       "4    14260       2198         836         1145     250000"
      ]
     },
     "execution_count": 25,
     "metadata": {},
     "output_type": "execute_result"
    }
   ],
   "source": [
    "dataDF = pd.DataFrame(data[[\"LotArea\", \"GrLivArea\", \"GarageArea\", \"TotalBsmtSF\", \"SalePrice\"]])\n",
    "dataDF.head()"
   ]
  },
  {
   "cell_type": "code",
   "execution_count": 26,
   "id": "25d9c83b",
   "metadata": {},
   "outputs": [
    {
     "data": {
      "text/html": [
       "<div>\n",
       "<style scoped>\n",
       "    .dataframe tbody tr th:only-of-type {\n",
       "        vertical-align: middle;\n",
       "    }\n",
       "\n",
       "    .dataframe tbody tr th {\n",
       "        vertical-align: top;\n",
       "    }\n",
       "\n",
       "    .dataframe thead th {\n",
       "        text-align: right;\n",
       "    }\n",
       "</style>\n",
       "<table border=\"1\" class=\"dataframe\">\n",
       "  <thead>\n",
       "    <tr style=\"text-align: right;\">\n",
       "      <th></th>\n",
       "      <th>LotArea</th>\n",
       "      <th>GrLivArea</th>\n",
       "      <th>GarageArea</th>\n",
       "      <th>TotalBsmtSF</th>\n",
       "      <th>SalePrice</th>\n",
       "    </tr>\n",
       "  </thead>\n",
       "  <tbody>\n",
       "    <tr>\n",
       "      <th>LotArea</th>\n",
       "      <td>1.000000</td>\n",
       "      <td>0.263116</td>\n",
       "      <td>0.180403</td>\n",
       "      <td>0.260833</td>\n",
       "      <td>0.263843</td>\n",
       "    </tr>\n",
       "    <tr>\n",
       "      <th>GrLivArea</th>\n",
       "      <td>0.263116</td>\n",
       "      <td>1.000000</td>\n",
       "      <td>0.468997</td>\n",
       "      <td>0.454868</td>\n",
       "      <td>0.708624</td>\n",
       "    </tr>\n",
       "    <tr>\n",
       "      <th>GarageArea</th>\n",
       "      <td>0.180403</td>\n",
       "      <td>0.468997</td>\n",
       "      <td>1.000000</td>\n",
       "      <td>0.486665</td>\n",
       "      <td>0.623431</td>\n",
       "    </tr>\n",
       "    <tr>\n",
       "      <th>TotalBsmtSF</th>\n",
       "      <td>0.260833</td>\n",
       "      <td>0.454868</td>\n",
       "      <td>0.486665</td>\n",
       "      <td>1.000000</td>\n",
       "      <td>0.613581</td>\n",
       "    </tr>\n",
       "    <tr>\n",
       "      <th>SalePrice</th>\n",
       "      <td>0.263843</td>\n",
       "      <td>0.708624</td>\n",
       "      <td>0.623431</td>\n",
       "      <td>0.613581</td>\n",
       "      <td>1.000000</td>\n",
       "    </tr>\n",
       "  </tbody>\n",
       "</table>\n",
       "</div>"
      ],
      "text/plain": [
       "              LotArea  GrLivArea  GarageArea  TotalBsmtSF  SalePrice\n",
       "LotArea      1.000000   0.263116    0.180403     0.260833   0.263843\n",
       "GrLivArea    0.263116   1.000000    0.468997     0.454868   0.708624\n",
       "GarageArea   0.180403   0.468997    1.000000     0.486665   0.623431\n",
       "TotalBsmtSF  0.260833   0.454868    0.486665     1.000000   0.613581\n",
       "SalePrice    0.263843   0.708624    0.623431     0.613581   1.000000"
      ]
     },
     "execution_count": 26,
     "metadata": {},
     "output_type": "execute_result"
    }
   ],
   "source": [
    "dataDF.corr()"
   ]
  },
  {
   "cell_type": "code",
   "execution_count": 27,
   "id": "1c2d817d",
   "metadata": {},
   "outputs": [
    {
     "data": {
      "text/plain": [
       "<AxesSubplot:>"
      ]
     },
     "execution_count": 27,
     "metadata": {},
     "output_type": "execute_result"
    },
    {
     "data": {
      "image/png": "[encoded data removed]",
      "text/plain": [
       "<Figure size 864x864 with 2 Axes>"
      ]
     },
     "metadata": {},
     "output_type": "display_data"
    }
   ],
   "source": [
    "f = plt.figure(figsize=(12, 12))\n",
    "sb.heatmap(dataDF.corr(), vmin = -1, vmax = 1, annot = True, fmt = \".2f\")"
   ]
  },
  {
   "cell_type": "markdown",
   "id": "dbc61f4c",
   "metadata": {},
   "source": [
    "## Answer"
   ]
  },
  {
   "cell_type": "markdown",
   "id": "b2e66dc5",
   "metadata": {},
   "source": [
    "Top 2 variables that I think will help us the most in predicting ‘SalePrice’ of houses in this data: GrLivArea and GarageArea."
   ]
  },
  {
   "cell_type": "markdown",
   "id": "ba7f308a",
   "metadata": {},
   "source": [
    "***"
   ]
  },
  {
   "cell_type": "markdown",
   "id": "1ba2db68",
   "metadata": {},
   "source": [
    "# Problem 2"
   ]
  },
  {
   "cell_type": "markdown",
   "id": "e921aca2",
   "metadata": {},
   "source": [
    "## a) Which of these variables has the highest number of levels? Which of the levels has the highest number of houses?"
   ]
  },
  {
   "cell_type": "code",
   "execution_count": 31,
   "id": "9315239f",
   "metadata": {},
   "outputs": [
    {
     "name": "stdout",
     "output_type": "stream",
     "text": [
      "Number of levels of MSSubClass: 15\n",
      "Number of levels of Neighborhood: 25\n",
      "Number of levels of BldgType: 5\n",
      "Number of levels of OverallQual: 10\n"
     ]
    }
   ],
   "source": [
    "print(\"Number of levels of MSSubClass:\", len(data[\"MSSubClass\"].unique()))\n",
    "print(\"Number of levels of Neighborhood:\", len(data[\"Neighborhood\"].unique()))\n",
    "print(\"Number of levels of BldgType:\", len(data[\"BldgType\"].unique()))\n",
    "print(\"Number of levels of OverallQual:\", len(data[\"OverallQual\"].unique()))"
   ]
  },
  {
   "cell_type": "code",
   "execution_count": 42,
   "id": "e918a5ba",
   "metadata": {},
   "outputs": [
    {
     "name": "stdout",
     "output_type": "stream",
     "text": [
      "                Id MSSubClass MSZoning LotFrontage LotArea Street Alley  \\\n",
      "             count      count    count       count   count  count count   \n",
      "Neighborhood                                                              \n",
      "Blmngtn         17         17       17          14      17     17     0   \n",
      "Blueste          2          2        2           2       2      2     0   \n",
      "BrDale          16         16       16          16      16     16     0   \n",
      "BrkSide         58         58       58          51      58     58     5   \n",
      "ClearCr         28         28       28          13      28     28     0   \n",
      "CollgCr        150        150      150         126     150    150     0   \n",
      "Crawfor         51         51       51          41      51     51     1   \n",
      "Edwards        100        100      100          92     100    100     6   \n",
      "Gilbert         79         79       79          49      79     79     0   \n",
      "IDOTRR          37         37       37          34      37     37     7   \n",
      "MeadowV         17         17       17          15      17     17     0   \n",
      "Mitchel         49         49       49          36      49     49     0   \n",
      "NAmes          225        225      225         186     225    225     1   \n",
      "NPkVill          9          9        9           7       9      9     0   \n",
      "NWAmes          73         73       73          45      73     73     0   \n",
      "NoRidge         41         41       41          33      41     41     0   \n",
      "NridgHt         77         77       77          76      77     77     0   \n",
      "OldTown        113        113      113         109     113    113    43   \n",
      "SWISU           25         25       25          23      25     25     4   \n",
      "Sawyer          74         74       74          48      74     74     0   \n",
      "SawyerW         59         59       59          50      59     59     0   \n",
      "Somerst         86         86       86          78      86     86    24   \n",
      "StoneBr         25         25       25          20      25     25     0   \n",
      "Timber          38         38       38          30      38     38     0   \n",
      "Veenker         11         11       11           7      11     11     0   \n",
      "\n",
      "             LotShape LandContour Utilities  ... PoolArea PoolQC Fence  \\\n",
      "                count       count     count  ...    count  count count   \n",
      "Neighborhood                                 ...                         \n",
      "Blmngtn            17          17        17  ...       17      0     0   \n",
      "Blueste             2           2         2  ...        2      0     2   \n",
      "BrDale             16          16        16  ...       16      0     0   \n",
      "BrkSide            58          58        58  ...       58      0    13   \n",
      "ClearCr            28          28        28  ...       28      0     3   \n",
      "CollgCr           150         150       150  ...      150      0    18   \n",
      "Crawfor            51          51        51  ...       51      0    13   \n",
      "Edwards           100         100       100  ...      100      2    23   \n",
      "Gilbert            79          79        79  ...       79      0     2   \n",
      "IDOTRR             37          37        37  ...       37      0    13   \n",
      "MeadowV            17          17        17  ...       17      0     4   \n",
      "Mitchel            49          49        49  ...       49      1    14   \n",
      "NAmes             225         225       225  ...      225      1    72   \n",
      "NPkVill             9           9         9  ...        9      0     0   \n",
      "NWAmes             73          73        73  ...       73      2    24   \n",
      "NoRidge            41          41        41  ...       41      1     2   \n",
      "NridgHt            77          77        77  ...       77      0     0   \n",
      "OldTown           113         113       113  ...      113      0    30   \n",
      "SWISU              25          25        25  ...       25      0     5   \n",
      "Sawyer             74          74        74  ...       74      0    28   \n",
      "SawyerW            59          59        59  ...       59      0    12   \n",
      "Somerst            86          86        86  ...       86      0     1   \n",
      "StoneBr            25          25        25  ...       25      0     0   \n",
      "Timber             38          38        38  ...       38      0     1   \n",
      "Veenker            11          11        11  ...       11      0     1   \n",
      "\n",
      "             MiscFeature MiscVal MoSold YrSold SaleType SaleCondition  \\\n",
      "                   count   count  count  count    count         count   \n",
      "Neighborhood                                                            \n",
      "Blmngtn                0      17     17     17       17            17   \n",
      "Blueste                0       2      2      2        2             2   \n",
      "BrDale                 0      16     16     16       16            16   \n",
      "BrkSide                4      58     58     58       58            58   \n",
      "ClearCr                2      28     28     28       28            28   \n",
      "CollgCr                2     150    150    150      150           150   \n",
      "Crawfor                1      51     51     51       51            51   \n",
      "Edwards                3     100    100    100      100           100   \n",
      "Gilbert                3      79     79     79       79            79   \n",
      "IDOTRR                 3      37     37     37       37            37   \n",
      "MeadowV                0      17     17     17       17            17   \n",
      "Mitchel                4      49     49     49       49            49   \n",
      "NAmes                 15     225    225    225      225           225   \n",
      "NPkVill                0       9      9      9        9             9   \n",
      "NWAmes                 5      73     73     73       73            73   \n",
      "NoRidge                0      41     41     41       41            41   \n",
      "NridgHt                0      77     77     77       77            77   \n",
      "OldTown                5     113    113    113      113           113   \n",
      "SWISU                  0      25     25     25       25            25   \n",
      "Sawyer                 5      74     74     74       74            74   \n",
      "SawyerW                1      59     59     59       59            59   \n",
      "Somerst                0      86     86     86       86            86   \n",
      "StoneBr                0      25     25     25       25            25   \n",
      "Timber                 1      38     38     38       38            38   \n",
      "Veenker                0      11     11     11       11            11   \n",
      "\n",
      "             SalePrice  \n",
      "                 count  \n",
      "Neighborhood            \n",
      "Blmngtn             17  \n",
      "Blueste              2  \n",
      "BrDale              16  \n",
      "BrkSide             58  \n",
      "ClearCr             28  \n",
      "CollgCr            150  \n",
      "Crawfor             51  \n",
      "Edwards            100  \n",
      "Gilbert             79  \n",
      "IDOTRR              37  \n",
      "MeadowV             17  \n",
      "Mitchel             49  \n",
      "NAmes              225  \n",
      "NPkVill              9  \n",
      "NWAmes              73  \n",
      "NoRidge             41  \n",
      "NridgHt             77  \n",
      "OldTown            113  \n",
      "SWISU               25  \n",
      "Sawyer              74  \n",
      "SawyerW             59  \n",
      "Somerst             86  \n",
      "StoneBr             25  \n",
      "Timber              38  \n",
      "Veenker             11  \n",
      "\n",
      "[25 rows x 80 columns]\n"
     ]
    }
   ],
   "source": [
    "grouped = data.groupby(\"Neighborhood\").agg([\"count\"])\n",
    "print(grouped)"
   ]
  },
  {
   "cell_type": "markdown",
   "id": "93c04cca",
   "metadata": {},
   "source": [
    "## Answer"
   ]
  },
  {
   "cell_type": "markdown",
   "id": "403f13af",
   "metadata": {},
   "source": [
    "Neighborhood has the highest number of levels. NAmes has the highest number of houses."
   ]
  },
  {
   "cell_type": "markdown",
   "id": "ffba263d",
   "metadata": {},
   "source": [
    "***"
   ]
  },
  {
   "cell_type": "markdown",
   "id": "dd2be0f3",
   "metadata": {},
   "source": [
    "## b) Choose the top two variables that you think will help us the most in predicting ‘SalePrice’ of houses in this data."
   ]
  },
  {
   "cell_type": "code",
   "execution_count": 63,
   "id": "778a233c",
   "metadata": {
    "scrolled": false
   },
   "outputs": [
    {
     "data": {
      "text/plain": [
       "<AxesSubplot:xlabel='MSSubClass', ylabel='SalePrice'>"
      ]
     },
     "execution_count": 63,
     "metadata": {},
     "output_type": "execute_result"
    },
    {
     "data": {
      "image/png": "[encoded data removed]",
      "text/plain": [
       "<Figure size 720x1080 with 1 Axes>"
      ]
     },
     "metadata": {},
     "output_type": "display_data"
    }
   ],
   "source": [
    "plt.figure(figsize=(10,15))\n",
    "sb.boxplot(data=data, x='MSSubClass',y='SalePrice')"
   ]
  },
  {
   "cell_type": "code",
   "execution_count": 80,
   "id": "d1f7e41d",
   "metadata": {
    "scrolled": false
   },
   "outputs": [
    {
     "data": {
      "text/plain": [
       "<AxesSubplot:xlabel='Neighborhood', ylabel='SalePrice'>"
      ]
     },
     "execution_count": 80,
     "metadata": {},
     "output_type": "execute_result"
    },
    {
     "data": {
      "image/png": "[encoded data removed]",
      "text/plain": [
       "<Figure size 2160x1080 with 1 Axes>"
      ]
     },
     "metadata": {},
     "output_type": "display_data"
    }
   ],
   "source": [
    "plt.figure(figsize=(30,15))\n",
    "sb.boxplot(data=data, x='Neighborhood',y='SalePrice')"
   ]
  },
  {
   "cell_type": "code",
   "execution_count": 64,
   "id": "747bb052",
   "metadata": {
    "scrolled": false
   },
   "outputs": [
    {
     "data": {
      "text/plain": [
       "<AxesSubplot:xlabel='BldgType', ylabel='SalePrice'>"
      ]
     },
     "execution_count": 64,
     "metadata": {},
     "output_type": "execute_result"
    },
    {
     "data": {
      "image/png": "[encoded data removed]",
      "text/plain": [
       "<Figure size 720x1080 with 1 Axes>"
      ]
     },
     "metadata": {},
     "output_type": "display_data"
    }
   ],
   "source": [
    "plt.figure(figsize=(10,15))\n",
    "sb.boxplot(data=data, x='BldgType',y='SalePrice')"
   ]
  },
  {
   "cell_type": "code",
   "execution_count": 74,
   "id": "f854f601",
   "metadata": {},
   "outputs": [
    {
     "data": {
      "text/plain": [
       "<AxesSubplot:xlabel='OverallQual', ylabel='SalePrice'>"
      ]
     },
     "execution_count": 74,
     "metadata": {},
     "output_type": "execute_result"
    },
    {
     "data": {
      "image/png": "[encoded data removed]",
      "text/plain": [
       "<Figure size 720x1080 with 1 Axes>"
      ]
     },
     "metadata": {},
     "output_type": "display_data"
    }
   ],
   "source": [
    "plt.figure(figsize=(10,15))\n",
    "sb.boxplot(data=data, x='OverallQual',y='SalePrice')"
   ]
  },
  {
   "cell_type": "markdown",
   "id": "2d2b9acd",
   "metadata": {},
   "source": [
    "## Answer"
   ]
  },
  {
   "cell_type": "markdown",
   "id": "5ee578d5",
   "metadata": {},
   "source": [
    "Neighborhood and OverallQual are the top two variables that I think will help us the most in predicting ‘SalePrice’ of houses in this data. \n",
    "<br>There is an upward trend in SalePrice with increasing OverallQual.\n",
    "<br>There are clear preferences for certain neighborhoods and against other neighborhoods (with difference in medians of up to 200000)."
   ]
  },
  {
   "cell_type": "markdown",
   "id": "98850e62",
   "metadata": {},
   "source": [
    "***"
   ]
  },
  {
   "cell_type": "markdown",
   "id": "632023b0",
   "metadata": {},
   "source": [
    "# Problem 3"
   ]
  },
  {
   "cell_type": "markdown",
   "id": "f0813751",
   "metadata": {},
   "source": [
    "## b) Does the SalePrice of a house get affected by how recently it got Remodeled? Justify your answer using EDA."
   ]
  },
  {
   "cell_type": "code",
   "execution_count": 103,
   "id": "bec07afb",
   "metadata": {
    "scrolled": true
   },
   "outputs": [
    {
     "data": {
      "text/html": [
       "<div>\n",
       "<style scoped>\n",
       "    .dataframe tbody tr th:only-of-type {\n",
       "        vertical-align: middle;\n",
       "    }\n",
       "\n",
       "    .dataframe tbody tr th {\n",
       "        vertical-align: top;\n",
       "    }\n",
       "\n",
       "    .dataframe thead th {\n",
       "        text-align: right;\n",
       "    }\n",
       "</style>\n",
       "<table border=\"1\" class=\"dataframe\">\n",
       "  <thead>\n",
       "    <tr style=\"text-align: right;\">\n",
       "      <th></th>\n",
       "      <th>YearRemodAdd</th>\n",
       "      <th>SalePrice</th>\n",
       "    </tr>\n",
       "  </thead>\n",
       "  <tbody>\n",
       "    <tr>\n",
       "      <th>0</th>\n",
       "      <td>2003</td>\n",
       "      <td>208500</td>\n",
       "    </tr>\n",
       "    <tr>\n",
       "      <th>1</th>\n",
       "      <td>1976</td>\n",
       "      <td>181500</td>\n",
       "    </tr>\n",
       "    <tr>\n",
       "      <th>2</th>\n",
       "      <td>2002</td>\n",
       "      <td>223500</td>\n",
       "    </tr>\n",
       "    <tr>\n",
       "      <th>3</th>\n",
       "      <td>1970</td>\n",
       "      <td>140000</td>\n",
       "    </tr>\n",
       "    <tr>\n",
       "      <th>4</th>\n",
       "      <td>2000</td>\n",
       "      <td>250000</td>\n",
       "    </tr>\n",
       "  </tbody>\n",
       "</table>\n",
       "</div>"
      ],
      "text/plain": [
       "   YearRemodAdd  SalePrice\n",
       "0          2003     208500\n",
       "1          1976     181500\n",
       "2          2002     223500\n",
       "3          1970     140000\n",
       "4          2000     250000"
      ]
     },
     "execution_count": 103,
     "metadata": {},
     "output_type": "execute_result"
    }
   ],
   "source": [
    "df = pd.DataFrame(data[[\"YearRemodAdd\",\"SalePrice\"]])\n",
    "df.head()"
   ]
  },
  {
   "cell_type": "code",
   "execution_count": 111,
   "id": "4126e822",
   "metadata": {},
   "outputs": [
    {
     "data": {
      "text/plain": [
       "<AxesSubplot:xlabel='YearRemodAdd', ylabel='SalePrice'>"
      ]
     },
     "execution_count": 111,
     "metadata": {},
     "output_type": "execute_result"
    },
    {
     "data": {
      "image/png": "[encoded data removed]",
      "text/plain": [
       "<Figure size 2160x1080 with 1 Axes>"
      ]
     },
     "metadata": {},
     "output_type": "display_data"
    }
   ],
   "source": [
    "plt.figure(figsize=(30,15))\n",
    "sb.boxplot(data=data, x='YearRemodAdd',y='SalePrice')"
   ]
  }
 ],
 "metadata": {
  "kernelspec": {
   "display_name": "Python 3 (ipykernel)",
   "language": "python",
   "name": "python3"
  },
  "language_info": {
   "codemirror_mode": {
    "name": "ipython",
    "version": 3
   },
   "file_extension": ".py",
   "mimetype": "text/x-python",
   "name": "python",
   "nbconvert_exporter": "python",
   "pygments_lexer": "ipython3",
   "version": "3.9.12"
  }
 },
 "nbformat": 4,
 "nbformat_minor": 5
}
